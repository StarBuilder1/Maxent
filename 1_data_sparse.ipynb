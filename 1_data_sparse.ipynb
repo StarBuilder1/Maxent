{
 "cells": [
  {
   "cell_type": "markdown",
   "metadata": {},
   "source": [
    "#### 1. Import modules"
   ]
  },
  {
   "cell_type": "code",
   "execution_count": null,
   "metadata": {
    "vscode": {
     "languageId": "r"
    }
   },
   "outputs": [],
   "source": [
    "library(readxl)\n",
    "library(spThin)\n",
    "library(openxlsx)\n",
    "library(sf)"
   ]
  },
  {
   "cell_type": "markdown",
   "metadata": {},
   "source": [
    "#### 2. Read data"
   ]
  },
  {
   "cell_type": "code",
   "execution_count": null,
   "metadata": {
    "vscode": {
     "languageId": "r"
    }
   },
   "outputs": [],
   "source": [
    "# read occurrence data\n",
    "data <- read_excel(\"E:/Working/Sam/Experiment/Data/Gentiana pannonica Scop/Pre_Gentiana_data.xlsx\", sheet = \"Sheet1\")\n",
    "\n",
    "# view df\n",
    "str(data)\n",
    "\n",
    "# turn to spatial frame\n",
    "sf_data <- st_as_sf(data, coords = c(\"X\", \"Y\"), crs = 4326) # 4326=WGS 84\n",
    "# project to (UTM Zone 33N)\n",
    "sf_data_utm <- st_transform(sf_data, crs = 32633) # 32633=UTM Zone 33N\n",
    "# extract UTM coordinates\n",
    "utm_coords <- st_coordinates(sf_data_utm)\n",
    "# create new df with UTM coordinates\n",
    "data_utm <- data.frame(ID = data$ID, X = utm_coords[,1], Y = utm_coords[,2])\n",
    "str(data_utm)"
   ]
  },
  {
   "cell_type": "markdown",
   "metadata": {},
   "source": [
    "#### 3. Do sparsing"
   ]
  },
  {
   "cell_type": "code",
   "execution_count": null,
   "metadata": {
    "vscode": {
     "languageId": "r"
    }
   },
   "outputs": [],
   "source": [
    "### Step1 ###\n",
    "# delete duplicated location data\n",
    "unique_data <- data_utm[!duplicated(data_utm[c(\"X\", \"Y\")]), ]\n",
    "str(unique_data)\n",
    "thinLength<-800\n",
    "\n",
    "# use spThin to thin the data\n",
    "thinned_data <- thin(\n",
    "  loc.data = unique_data,\n",
    "  lat.col = \"Y\",\n",
    "  long.col = \"X\",\n",
    "  spec.col = \"ID\", # if no species column, set to NULL; if species unique, error occurs while setting\n",
    "  thin.par = thinLength, # thinning distance\n",
    "  reps = 10, # number of repetitions\n",
    "  locs.thinned.list.return = TRUE,\n",
    "  write.files = FALSE\n",
    ")\n",
    "# check thinned data\n",
    "best_thinned <- thinned_data[[which.max(sapply(thinned_data, nrow))]]\n",
    "str(best_thinned)\n",
    "# rename columns\n",
    "colnames(best_thinned) <- c(\"X\", \"Y\")\n",
    "\n",
    "### Step2 ###\n",
    "# add ID column back to the thinned data\n",
    "best_thinned_with_id <- merge(best_thinned, unique_data, by = c(\"X\", \"Y\"))\n",
    "head(best_thinned_with_id)\n",
    "# turn back to geographic coordinates\n",
    "best_thinned_sf <- st_as_sf(best_thinned_with_id, coords = c(\"X\", \"Y\"), crs = 32633)\n",
    "best_thinned_geo <- st_transform(best_thinned_sf, crs = 4326)\n",
    "# extract coordinates\n",
    "geo_coords <- st_coordinates(best_thinned_geo)\n",
    "# create df with new coordinates \n",
    "best_thinned_geo_df <- data.frame(ID = best_thinned_with_id$ID, X = geo_coords[,1], Y = geo_coords[,2])\n",
    "head(best_thinned_geo_df, 10)\n",
    "\n",
    "### Step3 ###\n",
    "# save thinned data\n",
    "write.xlsx(best_thinned_geo_df, \"E:/Working/Sam/Experiment/R_Code/code_data_sparse/Thin_Gentiana_data_800m.xlsx\", sheetName = \"ThinnedData\")\n"
   ]
  }
 ],
 "metadata": {
  "kernelspec": {
   "display_name": "R",
   "language": "R",
   "name": "ir"
  },
  "language_info": {
   "codemirror_mode": "r",
   "file_extension": ".r",
   "mimetype": "text/x-r-source",
   "name": "R",
   "pygments_lexer": "r",
   "version": "4.4.0"
  }
 },
 "nbformat": 4,
 "nbformat_minor": 2
}
